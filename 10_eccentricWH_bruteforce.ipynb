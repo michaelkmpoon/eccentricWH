{
 "cells": [
  {
   "cell_type": "code",
   "execution_count": 1,
   "id": "08849d62-70b2-4adb-8b67-342a4a39a3a7",
   "metadata": {},
   "outputs": [],
   "source": [
    "%load_ext autoreload\n",
    "%autoreload 2"
   ]
  },
  {
   "cell_type": "code",
   "execution_count": 2,
   "id": "7702187f-446f-4b6b-9add-9cbd82520e07",
   "metadata": {},
   "outputs": [
    {
     "ename": "SyntaxError",
     "evalue": "invalid syntax (eccentricWH_bruteforce.py, line 57)",
     "output_type": "error",
     "traceback": [
      "Traceback \u001b[0;36m(most recent call last)\u001b[0m:\n",
      "  File \u001b[1;32m~/anaconda3/envs/astro/lib/python3.9/site-packages/IPython/core/interactiveshell.py:3397\u001b[0m in \u001b[1;35mrun_code\u001b[0m\n    exec(code_obj, self.user_global_ns, self.user_ns)\n",
      "\u001b[0;36m  Input \u001b[0;32mIn [2]\u001b[0;36m in \u001b[0;35m<cell line: 6>\u001b[0;36m\u001b[0m\n\u001b[0;31m    import eccentricWH_bruteforce\u001b[0m\n",
      "\u001b[0;36m  File \u001b[0;32m/mnt/c/Users/micha/Desktop/Research_Linux/eccentricWH_bruteforce.py:57\u001b[0;36m\u001b[0m\n\u001b[0;31m    sim_jacobi[1,:6] =r1_x, r1_y, r1z, v1x, v1y, v1z =\u001b[0m\n\u001b[0m                                                       ^\u001b[0m\n\u001b[0;31mSyntaxError\u001b[0m\u001b[0;31m:\u001b[0m invalid syntax\n"
     ]
    }
   ],
   "source": [
    "import sys\n",
    "import time\n",
    "import rebound\n",
    "import matplotlib.pyplot as plt\n",
    "import numpy as np\n",
    "import eccentricWH_bruteforce\n",
    "import vanillaWH_tools\n",
    "\n",
    "%matplotlib inline\n",
    "\n",
    "# configuring plots\n",
    "#plt.rc('text', usetex=True)            # use LaTeX for text\n",
    "plt.rc('font', family='serif')          # use serif font\n",
    "plt.rcParams.update({'font.size': 14})  # increase font size"
   ]
  },
  {
   "cell_type": "code",
   "execution_count": 5,
   "id": "1f54c433-9433-42f8-b6ca-51f58ca4ca80",
   "metadata": {},
   "outputs": [
    {
     "name": "stdout",
     "output_type": "stream",
     "text": [
      "[2 3]\n"
     ]
    }
   ],
   "source": [
    "c = np.array([1,2])\n",
    "a, b = c\n",
    "a+=1\n",
    "b+=1\n",
    "c = np.array([a,b])\n",
    "\n",
    "print(c)\n"
   ]
  },
  {
   "cell_type": "code",
   "execution_count": null,
   "id": "5e6cf59a-44a5-45cc-a84f-055e8101f817",
   "metadata": {},
   "outputs": [],
   "source": [
    "# initial conditions from Mikkola 1997\n",
    "# particle array as [x, y, z, vx, vy, vz, m]\n",
    "p0 = np.array([0., 0., 0., 0., 0., 0., 1.])\n",
    "p1 = np.array([-2.0, 0., 0., 0., -0.7, 0., 2.])\n",
    "p2 = np.array([0., 60., 0.01, -0.095, 0.0, 0.01, 0.9])\n",
    "\n",
    "sim_jacobi = np.stack([p0, p1, p2])\n",
    "masses = sim_jacobi[:,-1]\n",
    "\n",
    "sim = vanillaWH_tools.jacobi_to_inertial(sim_jacobi, masses)\n",
    "\n",
    "P_1195 = 2*np.pi*np.sqrt(1.195219123505976**3 / 3)\n",
    "print(P_1195)\n",
    "\n",
    "P_1195 = 4.73\n",
    "\n",
    "print(P_1195)\n",
    "print('Period =', P_1195)\n",
    "\n",
    "timestep = 1./30. * P_1195\n",
    "N_steps = 12500\n",
    "\n",
    "energy_error = np.zeros(N_steps)\n",
    "E0 = vanillaWH_tools.energy_fn(sim)\n",
    "\n",
    "orbit_soln = np.zeros((len(sim_jacobi), 3, N_steps)) # [object, position, N_steps]\n",
    "orbit_soln[:,0,0], orbit_soln[:,1,0], orbit_soln[:,2,0] = sim_jacobi[:,0], sim_jacobi[:,1], sim_jacobi[:,2]\n",
    "\n",
    "start = time.time()\n",
    "\n",
    "for i in range(N_steps):\n",
    "    \n",
    "    # drift\n",
    "    sim_jacobi = eccentricWH_bruteforce.drift(sim_jacobi, sim, object_num = 1, h=timestep/2)\n",
    "    sim_jacobi = eccentricWH_bruteforce.drift(sim_jacobi, sim, object_num = 2, h=timestep/2)\n",
    "    sim = vanillaWH_tools.jacobi_to_inertial(sim_jacobi, masses)\n",
    "    \n",
    "    # kick\n",
    "    sim_jacobi = eccentricWH_bruteforce.kick(sim_jacobi, sim, h=timestep)\n",
    "    \n",
    "    # drift\n",
    "    sim_jacobi = eccentricWH_bruteforce.drift(sim_jacobi, sim, object_num = 1, h=timestep/2)\n",
    "    sim_jacobi = eccentricWH_bruteforce.drift(sim_jacobi, sim, object_num = 2, h=timestep/2)\n",
    "    sim = vanillaWH_tools.jacobi_to_inertial(sim_jacobi, masses)\n",
    "\n",
    "    E = vanillaWH_tools.energy_fn(sim)\n",
    "    energy_error[i] = (E-E0)/E0\n",
    "\n",
    "    orbit_soln[:, 0, i] = sim_jacobi[:,0]\n",
    "    orbit_soln[:, 1, i] = sim_jacobi[:,1]\n",
    "    orbit_soln[:, 2, i] = sim_jacobi[:,2]\n",
    "\n",
    "end = time.time()\n",
    "\n",
    "print('time to integrate =', np.round(end - start, 1), 's')"
   ]
  },
  {
   "cell_type": "code",
   "execution_count": null,
   "id": "b4e34df6-9ee8-425b-a786-2c0bd0c99a65",
   "metadata": {},
   "outputs": [],
   "source": []
  }
 ],
 "metadata": {
  "kernelspec": {
   "display_name": "Python 3",
   "language": "python",
   "name": "python3"
  },
  "language_info": {
   "codemirror_mode": {
    "name": "ipython",
    "version": 3
   },
   "file_extension": ".py",
   "mimetype": "text/x-python",
   "name": "python",
   "nbconvert_exporter": "python",
   "pygments_lexer": "ipython3",
   "version": "3.9.7"
  }
 },
 "nbformat": 4,
 "nbformat_minor": 5
}
