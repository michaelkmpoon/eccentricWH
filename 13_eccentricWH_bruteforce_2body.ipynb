{
 "cells": [
  {
   "cell_type": "code",
   "execution_count": 2,
   "id": "08849d62-70b2-4adb-8b67-342a4a39a3a7",
   "metadata": {
    "tags": []
   },
   "outputs": [],
   "source": [
    "%load_ext autoreload\n",
    "%autoreload 2"
   ]
  },
  {
   "cell_type": "code",
   "execution_count": 3,
   "id": "7702187f-446f-4b6b-9add-9cbd82520e07",
   "metadata": {
    "tags": []
   },
   "outputs": [],
   "source": [
    "import sys\n",
    "import time\n",
    "import rebound\n",
    "import matplotlib.pyplot as plt\n",
    "import numpy as np\n",
    "import eccentricWH_bruteforce_2body\n",
    "import vanillaWH_bruteforce_nbody\n",
    "import integrator_tools\n",
    "\n",
    "%matplotlib inline\n",
    "\n",
    "# configuring plots\n",
    "#plt.rc('text', usetex=True)            # use LaTeX for text\n",
    "plt.rc('font', family='serif')          # use serif font\n",
    "plt.rcParams.update({'font.size': 14})  # increase font size"
   ]
  },
  {
   "cell_type": "code",
   "execution_count": null,
   "id": "23678ad4-78bb-452e-b263-ffe959f97aa1",
   "metadata": {},
   "outputs": [],
   "source": [
    "test_sim2 = rebound.Simulation()\n",
    "test_sim2.add(m=1.)\n",
    "test_sim2.add(m=1e-3, a=1., e=0.)\n",
    "test_sim2.particles[1]"
   ]
  },
  {
   "cell_type": "code",
   "execution_count": null,
   "id": "d4f7c1b9-4341-4f26-bf9d-3f50a52093b3",
   "metadata": {
    "tags": []
   },
   "outputs": [],
   "source": [
    "p0 = np.array([0., 0., 0., 0., 0., 0., 10.])\n",
    "p1 = np.array([2., 0., 0., 0., 0.7, 0., 1e-3])\n",
    "sim_jacobi = np.stack([p0, p1])\n",
    "\n",
    "masses = sim_jacobi[:,-1]\n",
    "\n",
    "sim = integrator_tools.jacobi_to_inertial(sim_jacobi, masses)\n",
    "\n",
    "test_sim = rebound.Simulation()\n",
    "test_sim.add(x=sim[0,0], y=sim[0,1], z=sim[0,2], vx=sim[0,3], vy=sim[0,4], vz=sim[0,5], m=sim[0,6])\n",
    "test_sim.add(x=sim[1,0], y=sim[1,1], z=sim[1,2], vx=sim[1,3], vy=sim[1,4], vz=sim[1,5], m=sim[1,6])\n",
    "test_sim.move_to_com()\n",
    "\n",
    "print(test_sim.particles[1].a,test_sim.particles[1].e)"
   ]
  },
  {
   "cell_type": "code",
   "execution_count": 4,
   "id": "5e6cf59a-44a5-45cc-a84f-055e8101f817",
   "metadata": {
    "tags": []
   },
   "outputs": [
    {
     "name": "stdout",
     "output_type": "stream",
     "text": [
      "integrating...\n",
      "0 %\n",
      "10 %\n",
      "20 %\n",
      "30 %\n",
      "40 %\n",
      "50 %\n",
      "60 %\n",
      "70 %\n",
      "80 %\n",
      "90 %\n",
      "time to integrate = 15.6 s\n"
     ]
    }
   ],
   "source": [
    "### SETUP ###\n",
    "\n",
    "# (1) Initial conditions from Mikkola 1997\n",
    "# particle array as [x, y, z, vx, vy, vz, m]\n",
    "#p0 = np.array([0., 0., 0., 0., 0., 0., 1.])\n",
    "#p1 = np.array([-2., 0., 0., 0., -0.7, 0., 2.])\n",
    "#p2 = np.array([0., 60., 0.01, -0.095, 0.0, 0.01, 0.9])\n",
    "\n",
    "p0 = np.array([0., 0., 0., 0., 0., 0., 10.])\n",
    "p1 = np.array([2., 0., 0., 0., 0.7, 0., 1e-3])\n",
    "sim_jacobi = np.stack([p0, p1])\n",
    "masses = sim_jacobi[:,-1]\n",
    "\n",
    "sim = integrator_tools.jacobi_to_inertial(sim_jacobi, masses)\n",
    "total_mass = np.sum(sim[:,6])\n",
    "# Calculate Jacobi masses\n",
    "sim_jacobi = integrator_tools.inertial_to_jacobi(sim)\n",
    "\n",
    "# (2) Number of orbits and steps per orbit\n",
    "N_orbits = 1000\n",
    "steps_per_orbit = 20\n",
    "\n",
    "# Calculate semi-major axis of binary\n",
    "test_sim = rebound.Simulation()\n",
    "test_sim.add(x=sim[0,0], y=sim[0,1], z=sim[0,2], vx=sim[0,3], vy=sim[0,4], vz=sim[0,5], m=sim[0,6])\n",
    "test_sim.add(x=sim[1,0], y=sim[1,1], z=sim[1,2], vx=sim[1,3], vy=sim[1,4], vz=sim[1,5], m=sim[1,6])\n",
    "\n",
    "binary_period = 2*np.pi*np.sqrt(test_sim.particles[1].a**3 / total_mass)\n",
    "timestep = 1./steps_per_orbit * binary_period\n",
    "N_steps = N_orbits*steps_per_orbit\n",
    "\n",
    "# (3) Time transform parameters\n",
    "time_transform = True\n",
    "A1 = 1.\n",
    "#time_array = np.zeros(N_steps)\n",
    "#physical_time = 0.\n",
    "\n",
    "### SETUP END ###\n",
    "\n",
    "# Calculate value of non-time-transformed Hamiltonian at time 0\n",
    "\n",
    "# Calculate norm of Jacobi coordinate and velocity\n",
    "r1 = np.sqrt(sim_jacobi[1,0]**2 + sim_jacobi[1,1]**2 + sim_jacobi[1,2]**2)\n",
    "v1_squared = sim_jacobi[1,3]**2 + sim_jacobi[1,4]**2 + sim_jacobi[1,5]**2\n",
    "\n",
    "Kepler_term1 = 0.5*v1_squared - total_mass/r1\n",
    "p0 = -Kepler_term1\n",
    "\n",
    "time_transform_array = np.zeros(N_steps)\n",
    "energy_error = np.zeros(N_steps)\n",
    "E0 = integrator_tools.energy_fn(sim)\n",
    "\n",
    "orbit_soln = np.zeros((len(sim_jacobi), 3, N_steps)) # [object, position, N_steps]\n",
    "orbit_soln[:,0,0], orbit_soln[:,1,0], orbit_soln[:,2,0] = sim_jacobi[:,0], sim_jacobi[:,1], sim_jacobi[:,2]\n",
    "\n",
    "start = time.time()\n",
    "\n",
    "print('integrating...')\n",
    "\n",
    "for i in range(N_steps):\n",
    "    \n",
    "    # print integration progress\n",
    "    if i % int(N_steps/10) == 0:\n",
    "        print(int(100*i/N_steps), '%')\n",
    "\n",
    "    # drift\n",
    "    if time_transform:\n",
    "        sim_jacobi = eccentricWH_bruteforce_2body.drift(sim_jacobi, sim, A1, p0, h=timestep)\n",
    "    else:\n",
    "        sim_jacobi = vanillaWH_bruteforce_nbody.drift(sim_jacobi, sim, h=timestep)\n",
    "    sim = integrator_tools.jacobi_to_inertial(sim_jacobi, masses)\n",
    "    \n",
    "    # kick\n",
    "    #sim_jacobi = eccentricWH_bruteforce.kick(sim_jacobi, sim, A1, h=timestep)\n",
    "    \n",
    "    # drift\n",
    "    #sim_jacobi = eccentricWH_bruteforce.drift(sim_jacobi, sim, A1, p0, h=timestep/2)\n",
    "    #sim = integrator_tools.jacobi_to_inertial(sim_jacobi, masses)\n",
    "\n",
    "    separation = np.sqrt(sim_jacobi[1,0]**2 + sim_jacobi[1,1]**2 + sim_jacobi[1,2]**2)\n",
    "    time_transform_array[i] = separation/A1\n",
    "    E = integrator_tools.energy_fn(sim)\n",
    "    energy_error[i] = np.abs((E-E0)/E0)\n",
    "\n",
    "    orbit_soln[:, 0, i] = sim_jacobi[:,0]\n",
    "    orbit_soln[:, 1, i] = sim_jacobi[:,1]\n",
    "    orbit_soln[:, 2, i] = sim_jacobi[:,2]\n",
    "    #time_array[i] = physical_time\n",
    "\n",
    "end = time.time()\n",
    "\n",
    "print('time to integrate =', np.round(end - start, 1), 's')\n",
    "\n",
    "orbit_soln_transform = np.copy(orbit_soln)\n",
    "energy_error_transform = np.copy(energy_error)"
   ]
  },
  {
   "cell_type": "code",
   "execution_count": 5,
   "id": "38e9d618-655b-45a9-83d5-0eb162d89ac6",
   "metadata": {
    "tags": []
   },
   "outputs": [
    {
     "name": "stdout",
     "output_type": "stream",
     "text": [
      "time to integrate = 13.1 s\n"
     ]
    }
   ],
   "source": [
    "### SETUP (no time transform) ###\n",
    "\n",
    "# (1) Initial conditions from Mikkola 1997\n",
    "# particle array as [x, y, z, vx, vy, vz, m]\n",
    "#p0 = np.array([0., 0., 0., 0., 0., 0., 1.])\n",
    "#p1 = np.array([-2., 0., 0., 0., -0.7, 0., 2.])\n",
    "#p2 = np.array([0., 60., 0.01, -0.095, 0.0, 0.01, 0.9])\n",
    "\n",
    "p0 = np.array([0., 0., 0., 0., 0., 0., 10.])\n",
    "p1 = np.array([2., 0., 0., 0., 0.7, 0., 1e-3])\n",
    "sim_jacobi = np.stack([p0, p1])\n",
    "masses = sim_jacobi[:,-1]\n",
    "\n",
    "sim = integrator_tools.jacobi_to_inertial(sim_jacobi, masses)\n",
    "total_mass = np.sum(sim[:,6])\n",
    "# Calculate Jacobi masses\n",
    "sim_jacobi = integrator_tools.inertial_to_jacobi(sim)\n",
    "\n",
    "# (3) Time transform parameters\n",
    "time_transform = False\n",
    "\n",
    "### SETUP END ###\n",
    "\n",
    "energy_error = np.zeros(N_steps)\n",
    "E0 = integrator_tools.energy_fn(sim)\n",
    "\n",
    "orbit_soln = np.zeros((len(sim_jacobi), 3, N_steps)) # [object, position, N_steps]\n",
    "orbit_soln[:,0,0], orbit_soln[:,1,0], orbit_soln[:,2,0] = sim_jacobi[:,0], sim_jacobi[:,1], sim_jacobi[:,2]\n",
    "\n",
    "start = time.time()\n",
    "\n",
    "for i in range(N_steps):\n",
    "    \n",
    "    # drift\n",
    "    if time_transform:\n",
    "        sim_jacobi, time = eccentricWH_bruteforce.drift(sim_jacobi, sim, A1, p0, h=timestep)\n",
    "    else:\n",
    "        sim_jacobi = vanillaWH_bruteforce_nbody.drift(sim_jacobi, sim, h=timestep)\n",
    "    sim = integrator_tools.jacobi_to_inertial(sim_jacobi, masses)\n",
    "    \n",
    "    # kick\n",
    "    #sim_jacobi = eccentricWH_bruteforce.kick(sim_jacobi, sim, A1, h=timestep)\n",
    "    \n",
    "    # drift\n",
    "    #sim_jacobi = eccentricWH_bruteforce.drift(sim_jacobi, sim, A1, p0, h=timestep/2)\n",
    "    #sim = integrator_tools.jacobi_to_inertial(sim_jacobi, masses)\n",
    "    \n",
    "    E = integrator_tools.energy_fn(sim)\n",
    "    energy_error[i] = np.abs((E-E0)/E0)\n",
    "\n",
    "    orbit_soln[:, 0, i] = sim_jacobi[:,0]\n",
    "    orbit_soln[:, 1, i] = sim_jacobi[:,1]\n",
    "    orbit_soln[:, 2, i] = sim_jacobi[:,2]\n",
    "\n",
    "end = time.time()\n",
    "\n",
    "print('time to integrate =', np.round(end - start, 1), 's')\n"
   ]
  },
  {
   "cell_type": "code",
   "execution_count": 6,
   "id": "1e0dbb43-c30a-4fbc-a64b-850b9423c152",
   "metadata": {},
   "outputs": [
    {
     "data": {
      "image/png": "[encoded data removed]",
      "text/plain": [
       "<Figure size 720x432 with 1 Axes>"
      ]
     },
     "metadata": {
      "needs_background": "light"
     },
     "output_type": "display_data"
    },
    {
     "data": {
      "image/png": "[encoded data removed]",
      "text/plain": [
       "<Figure size 720x324 with 1 Axes>"
      ]
     },
     "metadata": {
      "needs_background": "light"
     },
     "output_type": "display_data"
    }
   ],
   "source": [
    "# e=0.5, central mass=5\n",
    "\n",
    "orbital_periods = timestep*np.arange(N_steps)/ binary_period\n",
    "\n",
    "orbital_periods_transform = np.zeros(len(orbital_periods))\n",
    "\n",
    "current_time = 0\n",
    "for i in range(1, len(orbital_periods)):\n",
    "    current_time += time_transform_array[i]*(1/steps_per_orbit)\n",
    "    orbital_periods_transform[i] = current_time\n",
    "\n",
    "plt.figure(figsize=(10,6))\n",
    "plt.scatter(orbit_soln[0,0], orbit_soln[0,1], label='Central Object', c='tab:red')\n",
    "plt.scatter(orbit_soln[0,0], orbit_soln[0,1]-2, c='tab:red')\n",
    "plt.scatter(orbit_soln[1,0], orbit_soln[1,1], label='Regular time', c='tab:orange')\n",
    "plt.scatter(orbit_soln_transform[1,0], orbit_soln_transform[1,1]-2, label='Time transform, $g=r$', marker='*', c='tab:blue')\n",
    "plt.axhline(0, ls='--', alpha=0.2, c='black')\n",
    "plt.axvline(0, ls='--', alpha=0.2, c='black')\n",
    "plt.axis('scaled')\n",
    "plt.xlabel('x [au]')\n",
    "plt.ylabel('y [au]')\n",
    "plt.legend(loc='center left', bbox_to_anchor=(1, 0.5))\n",
    "plt.tight_layout()\n",
    "plt.savefig('comparison.jpg', dpi=300)\n",
    "plt.show() \n",
    "\n",
    "plt.figure(figsize=(10,4.5))\n",
    "plt.loglog(orbital_periods, energy_error, label='Regular time', c='tab:orange')\n",
    "plt.loglog(orbital_periods_transform, energy_error_transform, label='Time transform, $g=r$', c='tab:blue')\n",
    "#plt.ylim(-6e-5, 6e-5)\n",
    "plt.xlabel('number of orbital periods')\n",
    "plt.ylabel('Relative Energy Error')\n",
    "plt.legend(loc='center left', bbox_to_anchor=(1, 0.5))\n",
    "plt.tight_layout()\n",
    "#plt.savefig('SS_energy_error.jpg', dpi=300)\n",
    "plt.show()\n"
   ]
  },
  {
   "cell_type": "code",
   "execution_count": null,
   "id": "77685a4f-5777-440e-a0d4-8732da87b608",
   "metadata": {},
   "outputs": [],
   "source": []
  },
  {
   "cell_type": "code",
   "execution_count": null,
   "id": "0b029f46-72b8-43d8-bc1e-be222002e928",
   "metadata": {},
   "outputs": [],
   "source": []
  }
 ],
 "metadata": {
  "kernelspec": {
   "display_name": "Python 3 (ipykernel)",
   "language": "python",
   "name": "python3"
  },
  "language_info": {
   "codemirror_mode": {
    "name": "ipython",
    "version": 3
   },
   "file_extension": ".py",
   "mimetype": "text/x-python",
   "name": "python",
   "nbconvert_exporter": "python",
   "pygments_lexer": "ipython3",
   "version": "3.9.12"
  }
 },
 "nbformat": 4,
 "nbformat_minor": 5
}
