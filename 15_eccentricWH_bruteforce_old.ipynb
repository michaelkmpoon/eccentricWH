{
 "cells": [
  {
   "cell_type": "code",
   "execution_count": 1,
   "id": "08849d62-70b2-4adb-8b67-342a4a39a3a7",
   "metadata": {},
   "outputs": [],
   "source": [
    "%load_ext autoreload\n",
    "%autoreload 2"
   ]
  },
  {
   "cell_type": "code",
   "execution_count": 2,
   "id": "7702187f-446f-4b6b-9add-9cbd82520e07",
   "metadata": {},
   "outputs": [],
   "source": [
    "import sys\n",
    "import time\n",
    "import rebound\n",
    "import matplotlib.pyplot as plt\n",
    "import numpy as np\n",
    "import eccentricWH_bruteforce\n",
    "import integrator_tools\n",
    "\n",
    "%matplotlib inline\n",
    "\n",
    "# configuring plots\n",
    "#plt.rc('text', usetex=True)            # use LaTeX for text\n",
    "plt.rc('font', family='serif')          # use serif font\n",
    "plt.rcParams.update({'font.size': 14})  # increase font size"
   ]
  },
  {
   "cell_type": "code",
   "execution_count": 4,
   "id": "5e6cf59a-44a5-45cc-a84f-055e8101f817",
   "metadata": {
    "tags": []
   },
   "outputs": [
    {
     "name": "stdout",
     "output_type": "stream",
     "text": [
      "4.740133146834388\n",
      "4.740133146834388\n",
      "Period = 4.740133146834388\n",
      "time to integrate = 3.5 s\n"
     ]
    }
   ],
   "source": [
    "# initial conditions from Mikkola 1997\n",
    "# particle array as [x, y, z, vx, vy, vz, m]\n",
    "#p0 = np.array([0., 0., 0., 0., 0., 0., 1.])\n",
    "#p1 = np.array([-2., 0., 0., 0., -0.7, 0., 2.])\n",
    "#p2 = np.array([0., 60., 0.01, -0.095, 0.0, 0.01, 0.9])\n",
    "\n",
    "p0 = np.array([0., 0., 0., 0., 0., 0., 1.25])\n",
    "p1 = np.array([1., 0., 0., 0., 1., 0., 1e-3])\n",
    "\n",
    "sim_jacobi = np.stack([p0, p1])\n",
    "masses = sim_jacobi[:,-1]\n",
    "\n",
    "sim = integrator_tools.jacobi_to_inertial(sim_jacobi, masses)\n",
    "sim_jacobi = integrator_tools.inertial_to_jacobi(sim)\n",
    "\n",
    "# Calculate value of non-time-transformed Hamiltonian at time 0\n",
    "r0_x, r0_y, r0_z = sim[0,:3]\n",
    "r1_x, r1_y, r1_z = sim[1,:3]\n",
    "r2_x, r2_y, r2_z = sim[2,:3]\n",
    "ra = np.sqrt((r2_x-r0_x)**2 + (r2_y-r0_y)**2 + (r2_z-r0_z)**2)\n",
    "rb = np.sqrt((r2_x-r1_x)**2 + (r2_y-r1_y)**2 + (r2_z-r1_z)**2)\n",
    "m1, m2, m3 = sim[:3,6]\n",
    "\n",
    "# Norm of Jacobi coordinates\n",
    "r1 = np.sqrt(sim_jacobi[1,0]**2 + sim_jacobi[1,1]**2 + sim_jacobi[1,2]**2)\n",
    "r2 = np.sqrt(sim_jacobi[2,0]**2 + sim_jacobi[2,1]**2 + sim_jacobi[2,2]**2)\n",
    "\n",
    "# Jacobi momentum squared\n",
    "p1_squared = sim_jacobi[1,3]**2 + sim_jacobi[1,4]**2 + sim_jacobi[1,5]**2\n",
    "p2_squared = sim_jacobi[2,3]**2 + sim_jacobi[2,4]**2 + sim_jacobi[2,5]**2\n",
    "\n",
    "m1, m2, m3 = sim[:3,6]\n",
    "mu1 = m1*m2 / (m1 + m2)\n",
    "mu2 = m3 * (m1 + m2) / (m1 + m2 + m3)\n",
    "\n",
    "Kepler_term1 = p1_squared/(2*mu1) - m1*m2/r1\n",
    "Kepler_term2 = p2_squared/(2*mu2) - m3*(m1+m2)/r2\n",
    "perturbing_function = m3*(m1+m2)/r2 - m1*m3/ra - m2*m3/rb\n",
    "p0 = - ( Kepler_term1 + Kepler_term2 + perturbing_function )\n",
    "\n",
    "# Time transform parameters\n",
    "A1, A2 = 1., 15.\n",
    "\n",
    "N_orbits = 100\n",
    "steps_per_orbit = 100\n",
    "timestep = 1./steps_per_orbit * 2*np.pi\n",
    "N_steps = N_orbits*steps_per_orbit\n",
    "\n",
    "energy_error = np.zeros(N_steps)\n",
    "E0 = integrator_tools.energy_fn(sim)\n",
    "\n",
    "orbit_soln = np.zeros((len(sim_jacobi), 3, N_steps)) # [object, position, N_steps]\n",
    "orbit_soln[:,0,0], orbit_soln[:,1,0], orbit_soln[:,2,0] = sim_jacobi[:,0], sim_jacobi[:,1], sim_jacobi[:,2]\n",
    "\n",
    "start = time.time()\n",
    "\n",
    "for i in range(N_steps):\n",
    "    \n",
    "    #print(i)\n",
    "    # drift\n",
    "    sim_jacobi = eccentricWH_bruteforce.drift(sim_jacobi, sim, A1, A2, p0, h=timestep)\n",
    "    sim = integrator_tools.jacobi_to_inertial(sim_jacobi, masses)\n",
    "    \n",
    "    # kick\n",
    "    #sim_jacobi = eccentricWH_bruteforce.kick(sim_jacobi, sim, A1, A2, h=timestep)\n",
    "    \n",
    "    # drift\n",
    "    #sim_jacobi = eccentricWH_bruteforce.drift(sim_jacobi, sim, A1, A2, p0, h=timestep/2)\n",
    "    #sim = integrator_tools.jacobi_to_inertial(sim_jacobi, masses)\n",
    "\n",
    "    E = integrator_tools.energy_fn(sim)\n",
    "    energy_error[i] = (E-E0)/E0\n",
    "\n",
    "    orbit_soln[:, 0, i] = sim_jacobi[:,0]\n",
    "    orbit_soln[:, 1, i] = sim_jacobi[:,1]\n",
    "    orbit_soln[:, 2, i] = sim_jacobi[:,2]\n",
    "\n",
    "end = time.time()\n",
    "\n",
    "print('time to integrate =', np.round(end - start, 1), 's')"
   ]
  },
  {
   "cell_type": "code",
   "execution_count": 7,
   "id": "5d3a41fc-bd8c-4560-9ecd-2145edc2e95b",
   "metadata": {
    "tags": []
   },
   "outputs": [
    {
     "name": "stdout",
     "output_type": "stream",
     "text": [
      "4.740133146834388\n",
      "4.740133146834388\n",
      "Period = 4.740133146834388\n"
     ]
    },
    {
     "name": "stderr",
     "output_type": "stream",
     "text": [
      "/home/michaelpoon/anaconda3/envs/AST1500/lib/python3.9/site-packages/scipy/integrate/odepack.py:247: ODEintWarning: Excess work done on this call (perhaps wrong Dfun type). Run with full_output = 1 to get quantitative information.\n",
      "  warnings.warn(warning_msg, ODEintWarning)\n"
     ]
    },
    {
     "name": "stdout",
     "output_type": "stream",
     "text": [
      "time to integrate = 1.8 s\n"
     ]
    }
   ],
   "source": [
    "# initial conditions from Mikkola 1997\n",
    "# particle array as [x, y, z, vx, vy, vz, m]\n",
    "#p0 = np.array([0., 0., 0., 0., 0., 0., 1.])\n",
    "#p1 = np.array([-2., 0., 0., 0., -0.7, 0., 2.])\n",
    "#p2 = np.array([0., 60., 0.01, -0.095, 0.0, 0.01, 0.9])\n",
    "\n",
    "p0 = np.array([0., 0., 0., 0., 0., 0., 1.])\n",
    "p1 = np.array([1., 0., 0., 0., 1., 0., 1e-9])\n",
    "p2 = np.array([2., 0., 0., 0., 0.7, 0., 1e-9])\n",
    "\n",
    "sim_jacobi = np.stack([p0, p1, p2])\n",
    "masses = sim_jacobi[:,-1]\n",
    "\n",
    "sim = integrator_tools.jacobi_to_inertial(sim_jacobi, masses)\n",
    "\n",
    "# Calculate value of non-time-transformed Hamiltonian at time 0\n",
    "r0_x, r0_y, r0_z = sim[0,:3]\n",
    "r1_x, r1_y, r1_z = sim[1,:3]\n",
    "r2_x, r2_y, r2_z = sim[2,:3]\n",
    "ra = np.sqrt((r2_x-r0_x)**2 + (r2_y-r0_y)**2 + (r2_z-r0_z)**2)\n",
    "rb = np.sqrt((r2_x-r1_x)**2 + (r2_y-r1_y)**2 + (r2_z-r1_z)**2)\n",
    "m1, m2, m3 = sim[:3,6]\n",
    "\n",
    "# Norm of Jacobi coordinates\n",
    "r1 = np.sqrt(sim_jacobi[1,0]**2 + sim_jacobi[1,1]**2 + sim_jacobi[1,2]**2)\n",
    "r2 = np.sqrt(sim_jacobi[2,0]**2 + sim_jacobi[2,1]**2 + sim_jacobi[2,2]**2)\n",
    "\n",
    "# Jacobi momentum squared\n",
    "p1_squared = sim_jacobi[1,3]**2 + sim_jacobi[1,4]**2 + sim_jacobi[1,5]**2\n",
    "p2_squared = sim_jacobi[2,3]**2 + sim_jacobi[2,4]**2 + sim_jacobi[2,5]**2\n",
    "\n",
    "m1, m2, m3 = sim[:3,6]\n",
    "mu1 = m1*m2 / (m1 + m2)\n",
    "mu2 = m3 * (m1 + m2) / (m1 + m2 + m3)\n",
    "\n",
    "Kepler_term1 = p1_squared/(2*mu1) - m1*m2/r1\n",
    "Kepler_term2 = p2_squared/(2*mu2) - m3*(m1+m2)/r2\n",
    "perturbing_function = m3*(m1+m2)/r2 - m1*m3/ra - m2*m3/rb\n",
    "p0 = - ( Kepler_term1 + Kepler_term2 + perturbing_function )\n",
    "\n",
    "# Time transform parameters\n",
    "A1, A2 = 1., 15.\n",
    "\n",
    "P_1195 = 2*np.pi*np.sqrt(1.195219123505976**3 / 3)\n",
    "print(P_1195)\n",
    "\n",
    "#P_1195 = 4.73\n",
    "\n",
    "print(P_1195)\n",
    "print('Period =', P_1195)\n",
    "\n",
    "timestep = 1./30. * P_1195\n",
    "N_steps = 100\n",
    "\n",
    "energy_error = np.zeros(N_steps)\n",
    "E0 = integrator_tools.energy_fn(sim)\n",
    "\n",
    "orbit_soln = np.zeros((len(sim_jacobi), 3, N_steps)) # [object, position, N_steps]\n",
    "orbit_soln[:,0,0], orbit_soln[:,1,0], orbit_soln[:,2,0] = sim_jacobi[:,0], sim_jacobi[:,1], sim_jacobi[:,2]\n",
    "\n",
    "start = time.time()\n",
    "\n",
    "for i in range(N_steps):\n",
    "    \n",
    "    #print(i)\n",
    "    # drift\n",
    "    sim_jacobi = eccentricWH_bruteforce.drift(sim_jacobi, sim, A1, A2, p0, h=timestep)\n",
    "    sim = integrator_tools.jacobi_to_inertial(sim_jacobi, masses)\n",
    "    \n",
    "    # kick\n",
    "    #sim_jacobi = eccentricWH_bruteforce.kick(sim_jacobi, sim, A1, A2, h=timestep)\n",
    "    \n",
    "    # drift\n",
    "    #sim_jacobi = eccentricWH_bruteforce.drift(sim_jacobi, sim, A1, A2, p0, h=timestep/2)\n",
    "    #sim = integrator_tools.jacobi_to_inertial(sim_jacobi, masses)\n",
    "\n",
    "    E = integrator_tools.energy_fn(sim)\n",
    "    energy_error[i] = (E-E0)/E0\n",
    "\n",
    "    orbit_soln[:, 0, i] = sim_jacobi[:,0]\n",
    "    orbit_soln[:, 1, i] = sim_jacobi[:,1]\n",
    "    orbit_soln[:, 2, i] = sim_jacobi[:,2]\n",
    "\n",
    "end = time.time()\n",
    "\n",
    "print('time to integrate =', np.round(end - start, 1), 's')"
   ]
  },
  {
   "cell_type": "code",
   "execution_count": 8,
   "id": "d3403e07-cd14-4ecb-8fa5-67aab35bb4bb",
   "metadata": {},
   "outputs": [
    {
     "data": {
      "image/png": "[encoded data removed]",
      "text/plain": [
       "<Figure size 720x324 with 1 Axes>"
      ]
     },
     "metadata": {
      "needs_background": "light"
     },
     "output_type": "display_data"
    },
    {
     "data": {
      "image/png": "[encoded data removed]",
      "text/plain": [
       "<Figure size 720x324 with 1 Axes>"
      ]
     },
     "metadata": {
      "needs_background": "light"
     },
     "output_type": "display_data"
    }
   ],
   "source": [
    "plt.figure(figsize=(10,4.5))\n",
    "plt.scatter(orbit_soln[0,0], orbit_soln[0,1], label='m0', c='tab:red')\n",
    "plt.scatter(orbit_soln[1,0], orbit_soln[1,1], label='m1', c='tab:orange')\n",
    "plt.scatter(orbit_soln[2,0], orbit_soln[2,1], label='m2', c='tab:olive')\n",
    "\n",
    "plt.axhline(0, ls='--', alpha=0.2, c='black')\n",
    "plt.axvline(0, ls='--', alpha=0.2, c='black')\n",
    "#plt.axis('scaled')\n",
    "#plt.xlim(-50,50)\n",
    "#plt.ylim(-10,90)\n",
    "plt.xlabel('x [au]')\n",
    "plt.ylabel('y [au]')\n",
    "plt.legend(loc='center left', bbox_to_anchor=(1, 0.5))\n",
    "plt.tight_layout()\n",
    "#plt.savefig('SS.jpg', dpi=300)\n",
    "plt.show()\n",
    "\n",
    "plt.figure(figsize=(10,4.5))\n",
    "plt.plot(energy_error[:5], label='WHSlow', c='tab:purple')\n",
    "#plt.yscale('log')\n",
    "#plt.ylim(-6e-5, 6e-5)\n",
    "plt.xlabel('Timestep / Binary Period')\n",
    "plt.ylabel('Relative Energy Error')\n",
    "plt.legend(loc='center left', bbox_to_anchor=(1, 0.5))\n",
    "plt.tight_layout()\n",
    "#plt.savefig('SS_energy_error.jpg', dpi=300)\n",
    "plt.show()\n"
   ]
  },
  {
   "cell_type": "code",
   "execution_count": 94,
   "id": "29e44249-1337-4be6-be73-271ce723d31f",
   "metadata": {},
   "outputs": [
    {
     "data": {
      "text/plain": [
       "array([-0.00019396, -0.00038794, -0.00058194, -0.00077595, -0.00096999])"
      ]
     },
     "execution_count": 94,
     "metadata": {},
     "output_type": "execute_result"
    }
   ],
   "source": [
    "energy_error[:5]"
   ]
  },
  {
   "cell_type": "code",
   "execution_count": null,
   "id": "99bbf6bb-c798-4c8a-be0b-ab26dcc2f7ab",
   "metadata": {},
   "outputs": [],
   "source": []
  }
 ],
 "metadata": {
  "kernelspec": {
   "display_name": "Python 3 (ipykernel)",
   "language": "python",
   "name": "python3"
  },
  "language_info": {
   "codemirror_mode": {
    "name": "ipython",
    "version": 3
   },
   "file_extension": ".py",
   "mimetype": "text/x-python",
   "name": "python",
   "nbconvert_exporter": "python",
   "pygments_lexer": "ipython3",
   "version": "3.9.12"
  }
 },
 "nbformat": 4,
 "nbformat_minor": 5
}
